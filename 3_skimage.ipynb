{
 "cells": [
  {
   "cell_type": "code",
   "execution_count": null,
   "metadata": {},
   "outputs": [],
   "source": [
    "import imageio.v3 as iio\n",
    "import ipympl\n",
    "import matplotlib.pyplot as plt\n",
    "import numpy as np\n",
    "import skimage as ski"
   ]
  },
  {
   "cell_type": "code",
   "execution_count": null,
   "metadata": {},
   "outputs": [],
   "source": [
    "chair = iio.imread(uri=\"data/chair.jpg\")\n",
    "fig, ax = plt.subplots()\n",
    "ax.imshow(chair)"
   ]
  },
  {
   "cell_type": "code",
   "execution_count": null,
   "metadata": {},
   "outputs": [],
   "source": [
    "print(chair)"
   ]
  },
  {
   "cell_type": "code",
   "execution_count": null,
   "metadata": {},
   "outputs": [],
   "source": [
    "# resizing an image\n",
    "\n",
    "new_shape = (chair.shape[0] // 10, chair.shape[1] // 10, chair.shape[2])\n",
    "resized_chair = ski.transform.resize(image=chair, output_shape=new_shape)\n",
    "fig, ax = plt.subplots()\n",
    "ax.imshow(resized_chair)\n",
    "\n",
    "# File에 쓰려면 ubyte 포맷으로 변경해야 한다. \n",
    "# resize의 결과는 float 타입 ndarray로 이미지 픽셀 포맷으로 사용할 수 없다.\n",
    "resized_chair = ski.util.img_as_ubyte(resized_chair)\n",
    "iio.imwrite(uri='data/resized_chair.jpg', image=resized_chair)\n"
   ]
  },
  {
   "cell_type": "code",
   "execution_count": null,
   "metadata": {},
   "outputs": [],
   "source": [
    "maize_roots = iio.imread(uri=\"data/maize-root-cluster.jpg\")\n",
    "maize_roots = np.array(maize_roots)\n",
    "\n",
    "fig, ax = plt.subplots()\n",
    "ax.imshow(maize_roots)"
   ]
  },
  {
   "cell_type": "code",
   "execution_count": null,
   "metadata": {},
   "outputs": [],
   "source": [
    "maize_roots[maize_roots < 128] = 0\n",
    "\n",
    "fig, ax = plt.subplots()\n",
    "ax.imshow(maize_roots)"
   ]
  },
  {
   "cell_type": "code",
   "execution_count": null,
   "metadata": {},
   "outputs": [],
   "source": [
    "chair = iio.imread(uri=\"data/chair.jpg\")\n",
    "\n",
    "fig, ax = plt.subplots()\n",
    "ax.imshow(chair)\n",
    "\n",
    "gray_chair = ski.color.rgb2gray(chair)\n",
    "fig, ax = plt.subplots()\n",
    "ax.imshow(gray_chair, cmap=\"gray\")"
   ]
  },
  {
   "cell_type": "code",
   "execution_count": null,
   "metadata": {},
   "outputs": [],
   "source": [
    "gray_chair = iio.imread(uri=\"data/chair.jpg\", mode=\"L\")\n",
    "\n",
    "fig, ax = plt.subplots()\n",
    "ax.imshow(gray_chair, cmap=\"gray\")"
   ]
  },
  {
   "cell_type": "code",
   "execution_count": null,
   "metadata": {},
   "outputs": [],
   "source": [
    "sudoku = iio.imread(uri=\"data/sudoku.png\", mode=\"L\")\n",
    "sudoku = np.array(sudoku)\n",
    "sudoku[sudoku > 192] = 192\n",
    "\n",
    "fig, ax = plt.subplots()\n",
    "ax.imshow(sudoku, cmap=\"gray\", vmin=0, vmax=255)"
   ]
  },
  {
   "cell_type": "code",
   "execution_count": null,
   "metadata": {},
   "outputs": [],
   "source": [
    "board = iio.imread(uri=\"data/board.jpg\")\n",
    "board = np.array(board)\n",
    "fig, ax = plt.subplots()\n",
    "ax.imshow(board)"
   ]
  },
  {
   "cell_type": "code",
   "execution_count": null,
   "metadata": {},
   "outputs": [],
   "source": [
    "clipped_board = board[60:151, 135:481, :]\n",
    "fig, ax = plt.subplots()\n",
    "ax.imshow(clipped_board)\n",
    "iio.imwrite(uri=\"data/clipped_board.tif\", image=clipped_board)\n"
   ]
  },
  {
   "cell_type": "code",
   "execution_count": null,
   "metadata": {},
   "outputs": [],
   "source": [
    "import matplotlib.pyplot as plt\n",
    "color = board[330, 90]\n",
    "board[60:151, 135:481, :] = color\n",
    "fig, ax = plt.subplots()\n",
    "ax.imshow(board)"
   ]
  },
  {
   "cell_type": "code",
   "execution_count": null,
   "metadata": {},
   "outputs": [],
   "source": [
    "maize_roots = iio.imread(uri=\"data/maize-root-cluster.jpg\")\n",
    "maize_roots = np.array(maize_roots)\n",
    "fig, ax = plt.subplots()\n",
    "ax.imshow(maize_roots)"
   ]
  },
  {
   "cell_type": "code",
   "execution_count": null,
   "metadata": {},
   "outputs": [],
   "source": [
    "maize = maize_roots[:, 300:500, :]\n",
    "fig, ax = plt.subplots(1, 2)\n",
    "ax[0].imshow(maize_roots)\n",
    "ax[1].imshow(maize)"
   ]
  }
 ],
 "metadata": {
  "kernelspec": {
   "display_name": "venv",
   "language": "python",
   "name": "python3"
  },
  "language_info": {
   "codemirror_mode": {
    "name": "ipython",
    "version": 3
   },
   "file_extension": ".py",
   "mimetype": "text/x-python",
   "name": "python",
   "nbconvert_exporter": "python",
   "pygments_lexer": "ipython3",
   "version": "3.12.1"
  }
 },
 "nbformat": 4,
 "nbformat_minor": 2
}
