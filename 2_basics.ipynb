{
 "cells": [
  {
   "cell_type": "code",
   "execution_count": null,
   "metadata": {},
   "outputs": [],
   "source": [
    "import imageio.v3 as iio"
   ]
  },
  {
   "cell_type": "markdown",
   "metadata": {},
   "source": [
    "### WHY NOT USE skimage.io.imread()?\n",
    "\n",
    "The scikit-image library has its own function to read an image, so you might be asking why we don’t use it here. Actually, skimage.io.imread() uses iio.imread() internally when loading an image into Python."
   ]
  },
  {
   "cell_type": "code",
   "execution_count": null,
   "metadata": {},
   "outputs": [],
   "source": [
    "eight = iio.imread(uri=\"data/eight.tif\")\n",
    "print(type(eight))"
   ]
  },
  {
   "cell_type": "code",
   "execution_count": null,
   "metadata": {},
   "outputs": [],
   "source": [
    "'''Python libraries for learning and performing image processing'''\n",
    "import ipympl\n",
    "import matplotlib.pyplot as plt\n",
    "import numpy as np\n",
    "import skimage as ski\n",
    "\n",
    "%matplotlib widget"
   ]
  },
  {
   "cell_type": "code",
   "execution_count": null,
   "metadata": {},
   "outputs": [],
   "source": [
    "fig, ax = plt.subplots()\n",
    "ax.imshow(eight)"
   ]
  },
  {
   "cell_type": "code",
   "execution_count": null,
   "metadata": {},
   "outputs": [],
   "source": [
    "print(eight.shape)\n",
    "print(eight)"
   ]
  },
  {
   "cell_type": "code",
   "execution_count": null,
   "metadata": {},
   "outputs": [],
   "source": [
    "zero = iio.imread(uri=\"data/eight.tif\")\n",
    "zero[2,1] = 1.0\n",
    "\n",
    "fig, ax = plt.subplots()\n",
    "ax.imshow(zero)\n",
    "print(zero)"
   ]
  },
  {
   "cell_type": "markdown",
   "metadata": {},
   "source": [
    "### COORDIATE SYSTEM\n",
    "\n",
    "The modified coordinate system used for our images will have only positive coordinates, the origin will be in the upper left corner instead of the centre, and y coordinate values will get larger as they go down instead of up, like this:"
   ]
  },
  {
   "cell_type": "code",
   "execution_count": null,
   "metadata": {},
   "outputs": [],
   "source": [
    "five = iio.imread(uri=\"data/eight.tif\")\n",
    "five[1,2] = 1.0\n",
    "five[3,0] = 1.0\n",
    "\n",
    "fig, ax = plt.subplots()\n",
    "ax.imshow(five)\n",
    "print(five)"
   ]
  },
  {
   "cell_type": "code",
   "execution_count": null,
   "metadata": {},
   "outputs": [],
   "source": [
    "three_colours = iio.imread(uri=\"data/eight.tif\")\n",
    "three_colours = three_colours * 128\n",
    "\n",
    "three_colours[2, :] = 255.\n",
    "fig, ax = plt.subplots()\n",
    "ax.imshow(three_colours)\n",
    "print(three_colours)"
   ]
  },
  {
   "cell_type": "code",
   "execution_count": null,
   "metadata": {},
   "outputs": [],
   "source": [
    "fig, ax = plt.subplots()\n",
    "ax.imshow(three_colours, cmap=plt.cm.gray)"
   ]
  },
  {
   "cell_type": "code",
   "execution_count": null,
   "metadata": {},
   "outputs": [],
   "source": [
    "pseudorandomizer = np.random.RandomState(2021)\n",
    "checkerboard = pseudorandomizer.randint(0, 255, size=(4,4,3))\n",
    "fig, ax = plt.subplots()\n",
    "ax.imshow(checkerboard)\n",
    "print(checkerboard)"
   ]
  },
  {
   "cell_type": "code",
   "execution_count": null,
   "metadata": {},
   "outputs": [],
   "source": [
    "upper_right_square = checkerboard[1, 3, :]\n",
    "print(upper_right_square)"
   ]
  },
  {
   "cell_type": "code",
   "execution_count": null,
   "metadata": {},
   "outputs": [],
   "source": [
    "red_channel = checkerboard * [1,0,0]\n",
    "fig, ax = plt.subplots()\n",
    "ax.imshow(red_channel)"
   ]
  },
  {
   "cell_type": "code",
   "execution_count": null,
   "metadata": {},
   "outputs": [],
   "source": [
    "green_channel = checkerboard * [0,1,0]\n",
    "fig, ax = plt.subplots()\n",
    "ax.imshow(green_channel)\n",
    "\n",
    "blue_channel = checkerboard * [0,0,1]\n",
    "fig, ax = plt.subplots()\n",
    "ax.imshow(blue_channel)"
   ]
  },
  {
   "cell_type": "code",
   "execution_count": null,
   "metadata": {},
   "outputs": [],
   "source": [
    "dim = 5000\n",
    "img = np.zeros((dim, dim, 3), dtype=\"uint8\")\n",
    "img.fill(255)\n",
    "\n",
    "iio.imwrite(uri=\"data/ws.bmp\", image=img)\n",
    "iio.imwrite(uri=\"data/ws.jpg\", image=img)\n",
    "iio.imwrite(uri=\"data/ws.png\", image=img)\n",
    "iio.imwrite(uri=\"data/ws.tif\", image=img)\n",
    "iio.imwrite(uri=\"data/ws.webp\", image=img)\n",
    "iio.imwrite(uri=\"data/ws.avif\", image=img)\n",
    "iio.imwrite(uri=\"data/ws.heif\", image=img)\n",
    "iio.imwrite(uri=\"data/ws.jp2\", image=img)"
   ]
  },
  {
   "cell_type": "markdown",
   "metadata": {},
   "source": [
    "### METADATA\n",
    "\n",
    "The image reader/writer library that we use throughout this lesson, imageio.v3, includes metadata when saving new images but may fail to keep certain metadata fields. In any case, remember: if metadata is important to you, take precautions to always preserve the original files.\n",
    "\n",
    "Other software exists that can help you handle metadata, e.g., **Fiji** and **ImageMagick**. You may want to explore these options if you need to work with the metadata of your images."
   ]
  },
  {
   "cell_type": "code",
   "execution_count": null,
   "metadata": {},
   "outputs": [],
   "source": [
    "metadata = iio.immeta(uri=\"data/eight.tif\")\n",
    "metadata"
   ]
  },
  {
   "cell_type": "code",
   "execution_count": null,
   "metadata": {},
   "outputs": [],
   "source": []
  }
 ],
 "metadata": {
  "kernelspec": {
   "display_name": "venv",
   "language": "python",
   "name": "python3"
  },
  "language_info": {
   "codemirror_mode": {
    "name": "ipython",
    "version": 3
   },
   "file_extension": ".py",
   "mimetype": "text/x-python",
   "name": "python",
   "nbconvert_exporter": "python",
   "pygments_lexer": "ipython3",
   "version": "3.12.1"
  }
 },
 "nbformat": 4,
 "nbformat_minor": 2
}
