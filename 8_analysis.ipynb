{
 "cells": [
  {
   "cell_type": "markdown",
   "metadata": {},
   "source": [
    "# Connected Component Analysis"
   ]
  },
  {
   "cell_type": "markdown",
   "metadata": {},
   "source": [
    "## Objects\n",
    "\n",
    "### Pixel Neighborhoods\n",
    "\n",
    "#### Jumps\n",
    "1. 1-jump is only allowed along the column, or the row. Diagonal jumps are not allowed.\n",
    "2. 2-jump: in a sequence of jumps, one may only jump in row and column direction once."
   ]
  },
  {
   "cell_type": "code",
   "execution_count": null,
   "metadata": {},
   "outputs": [],
   "source": [
    "import imageio.v3 as iio\n",
    "import ipympl\n",
    "import matplotlib.pyplot as plt\n",
    "import numpy as np\n",
    "import skimage as ski\n",
    "\n",
    "%matplotlib widget"
   ]
  },
  {
   "cell_type": "code",
   "execution_count": null,
   "metadata": {},
   "outputs": [],
   "source": [
    "def connected_components(filename, sigma=1.0, t = 0.5, connectivity=2):\n",
    "    image = iio.imread(filename)\n",
    "    gray_image = ski.color.rgb2gray(image)\n",
    "    blurred_image = ski.filters.gaussian(gray_image, sigma)\n",
    "    # 아래 기준도 애매함. 이미지에 따라서 달라짐. 아래 샘플에서는 임계점이 되는 배경색은 다른 값보다 높은 값을 가지므로 < 를 사용함.\n",
    "    # 배경색이 검은색에 가깝다면 > 를 사용하는 것이 맞다.\n",
    "    binary_mask = blurred_image < t\n",
    "    labeled_image, count = ski.measure.label(\n",
    "        binary_mask, connectivity=connectivity, return_num=True)\n",
    "    return labeled_image, count"
   ]
  },
  {
   "cell_type": "code",
   "execution_count": null,
   "metadata": {},
   "outputs": [],
   "source": [
    "# Blur의 강도를 높일 수록 정확도는 높아질 수 있으나 정확한 값을 찾는 것은 매우 어렵다.\n",
    "labeled_image, count = connected_components(\n",
    "    filename=\"data/shapes-01.jpg\",\n",
    "    sigma=1,\n",
    "    t=0.9,\n",
    "    connectivity=1\n",
    ")\n",
    "print(f\"Found {count} shapes.\")\n",
    "fig, ax = plt.subplots()\n",
    "ax.imshow(labeled_image)\n",
    "ax.set_axis_off();"
   ]
  },
  {
   "cell_type": "code",
   "execution_count": null,
   "metadata": {},
   "outputs": [],
   "source": [
    "colored_label_image = ski.color.label2rgb(labeled_image, bg_label=0)\n",
    "\n",
    "fig, ax = plt.subplots()\n",
    "ax.imshow(colored_label_image)\n",
    "ax.set_axis_off()"
   ]
  },
  {
   "cell_type": "markdown",
   "metadata": {},
   "source": [
    "## Morphometrics - Describe object features with numbers"
   ]
  },
  {
   "cell_type": "code",
   "execution_count": null,
   "metadata": {},
   "outputs": [],
   "source": [
    "object_features = ski.measure.regionprops(labeled_image)\n",
    "object_areas = [feature[\"area\"] for feature in object_features]\n",
    "object_areas"
   ]
  },
  {
   "cell_type": "code",
   "execution_count": null,
   "metadata": {},
   "outputs": [],
   "source": [
    "histogram, bin_edges = np.histogram(object_areas)\n",
    "fig, ax = plt.subplots()\n",
    "ax.plot(bin_edges[0:-1], histogram)\n",
    "ax.hist(object_areas)"
   ]
  },
  {
   "cell_type": "code",
   "execution_count": null,
   "metadata": {},
   "outputs": [],
   "source": [
    "regionprop1 = object_features[3]\n",
    "print(\"label\",  regionprop1.label)\n",
    "\n"
   ]
  },
  {
   "cell_type": "code",
   "execution_count": null,
   "metadata": {},
   "outputs": [],
   "source": [
    "def enhanced_connected_components(\n",
    "        filename, sigma=1.0, t = 0.5, connectivity=2, min_area=0):\n",
    "    image = iio.imread(filename)\n",
    "    gray_image = ski.color.rgb2gray(image)\n",
    "    blurred_image = ski.filters.gaussian(gray_image, sigma)\n",
    "    # 아래 기준도 애매함. 이미지에 따라서 달라짐. 아래 샘플에서는 임계점이 되는 배경색은 다른 값보다 높은 값을 가지므로 < 를 사용함.\n",
    "    # 배경색이 검은색에 가깝다면 > 를 사용하는 것이 맞다.\n",
    "    binary_mask = blurred_image < t\n",
    "    object_mask = ski.morphology.remove_small_objects(binary_mask, min_size=min_area)\n",
    "    labeled_image, count = ski.measure.label(object_mask, connectivity=connectivity, return_num=True)\n",
    "    return labeled_image, count"
   ]
  },
  {
   "cell_type": "code",
   "execution_count": null,
   "metadata": {},
   "outputs": [],
   "source": [
    "# Blur의 강도를 높일 수록 정확도는 높아질 수 있으나 정확한 값을 찾는 것은 매우 어렵다.\n",
    "labeled_image_2, count = enhanced_connected_components(\n",
    "    filename=\"data/shapes-01.jpg\",\n",
    "    sigma=1,\n",
    "    t=0.9,\n",
    "    connectivity=1,\n",
    "    min_area=10000\n",
    ")\n",
    "print(f\"Found {count} shapes.\")"
   ]
  },
  {
   "cell_type": "code",
   "execution_count": null,
   "metadata": {},
   "outputs": [],
   "source": [
    "colored_label_image = ski.color.label2rgb(labeled_image_2, bg_label=0)\n",
    "\n",
    "fig, ax = plt.subplots()\n",
    "ax.imshow(colored_label_image)\n",
    "ax.set_axis_off()\n",
    "\n",
    "print(\"Found\", count, \"objects in the image\")"
   ]
  },
  {
   "cell_type": "code",
   "execution_count": null,
   "metadata": {},
   "outputs": [],
   "source": [
    "object_areas = np.array([feature[\"area\"] for feature in ski.measure.regionprops(labeled_image_2)])\n",
    "object_areas = np.insert(0, obj=1, values = object_areas)\n",
    "print(object_areas)\n",
    "colored_area_image = object_areas[labeled_image_2]\n",
    "\n",
    "fig, ax = plt.subplots()\n",
    "im = ax.imshow(colored_area_image)\n",
    "cbar = fig.colorbar(im, ax=ax, shrink=0.85)\n",
    "cbar.ax.set_title(\"Area\")\n",
    "ax.set_axis_off()"
   ]
  },
  {
   "cell_type": "code",
   "execution_count": null,
   "metadata": {},
   "outputs": [],
   "source": [
    "labeled_image"
   ]
  }
 ],
 "metadata": {
  "kernelspec": {
   "display_name": "venv",
   "language": "python",
   "name": "python3"
  },
  "language_info": {
   "codemirror_mode": {
    "name": "ipython",
    "version": 3
   },
   "file_extension": ".py",
   "mimetype": "text/x-python",
   "name": "python",
   "nbconvert_exporter": "python",
   "pygments_lexer": "ipython3",
   "version": "3.12.1"
  }
 },
 "nbformat": 4,
 "nbformat_minor": 2
}
