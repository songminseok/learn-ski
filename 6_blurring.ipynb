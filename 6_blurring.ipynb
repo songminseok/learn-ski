{
 "cells": [
  {
   "cell_type": "code",
   "execution_count": null,
   "metadata": {},
   "outputs": [],
   "source": [
    "import imageio.v3 as iio\n",
    "import ipympl\n",
    "import matplotlib.pyplot as plt\n",
    "import skimage as ski\n",
    "\n",
    "%matplotlib widget"
   ]
  },
  {
   "cell_type": "code",
   "execution_count": null,
   "metadata": {},
   "outputs": [],
   "source": [
    "image = iio.imread(uri=\"data/gaussian-original.png\")\n",
    "\n",
    "fig, ax = plt.subplots()\n",
    "ax.imshow(image)"
   ]
  },
  {
   "cell_type": "code",
   "execution_count": null,
   "metadata": {},
   "outputs": [],
   "source": [
    "sigma = 3.0\n",
    "\n",
    "blurred = ski.filters.gaussian(image, sigma=(sigma, sigma), truncate=3.5, channel_axis=-1)\n",
    "print(image.ndim)\n",
    "\n",
    "fig, ax = plt.subplots()\n",
    "ax.imshow(blurred)"
   ]
  },
  {
   "cell_type": "markdown",
   "metadata": {},
   "source": [
    "## Visualising Blurring"
   ]
  },
  {
   "cell_type": "code",
   "execution_count": null,
   "metadata": {},
   "outputs": [],
   "source": [
    "image = iio.imread(uri=\"data/colonies-01.tif\")\n",
    "image_gray = ski.color.rgb2gray(image)\n",
    "\n",
    "xmin, xmax = 0, image_gray.shape[1]\n",
    "Y = ymin = ymax = 150\n",
    "\n",
    "fig, ax = plt.subplots()\n",
    "ax.imshow(image_gray, cmap=\"gray\")\n",
    "ax.plot([xmin, xmax], [ymin, ymax], color=\"red\")\n"
   ]
  },
  {
   "cell_type": "code",
   "execution_count": null,
   "metadata": {},
   "outputs": [],
   "source": [
    "image_gray_pixels_slice = image_gray[Y, :]\n",
    "image_gray_pixels_slice = ski.util.img_as_ubyte(image_gray_pixels_slice)\n",
    "\n",
    "fig, ax = plt.subplots()\n",
    "ax.plot(image_gray_pixels_slice, color=\"red\")\n",
    "ax.set_ylim(255, 0)\n",
    "ax.set_ylabel('L')\n",
    "ax.set_xlabel('X')"
   ]
  },
  {
   "cell_type": "code",
   "execution_count": null,
   "metadata": {},
   "outputs": [],
   "source": [
    "image_blur = ski.filters.gaussian(image_gray, sigma=(3, 3))\n",
    "\n",
    "image_blur_pixels_slice = image_blur[Y, :]\n",
    "image_blur_pixels_slice = ski.util.img_as_ubyte(image_blur_pixels_slice)\n",
    "\n",
    "fig, ax = plt.subplots()\n",
    "ax.plot(image_blur_pixels_slice, color=\"red\")\n",
    "ax.set_ylim(255, 0)\n",
    "ax.set_ylabel('L')\n",
    "ax.set_xlabel('X')"
   ]
  }
 ],
 "metadata": {
  "kernelspec": {
   "display_name": "venv",
   "language": "python",
   "name": "python3"
  },
  "language_info": {
   "codemirror_mode": {
    "name": "ipython",
    "version": 3
   },
   "file_extension": ".py",
   "mimetype": "text/x-python",
   "name": "python",
   "nbconvert_exporter": "python",
   "pygments_lexer": "ipython3",
   "version": "3.12.1"
  }
 },
 "nbformat": 4,
 "nbformat_minor": 2
}
