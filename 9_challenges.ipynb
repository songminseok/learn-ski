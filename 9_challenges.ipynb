{
 "cells": [
  {
   "cell_type": "code",
   "execution_count": null,
   "metadata": {},
   "outputs": [],
   "source": [
    "import imageio.v3 as iio\n",
    "import skimage as ski\n",
    "import matplotlib.pyplot as plt\n",
    "import numpy as np\n",
    "\n",
    "%matplotlib widget\n",
    "\n",
    "image = iio.imread(uri='data/colonies-01.tif')\n",
    "gray_image = ski.color.rgb2gray(image)\n",
    "blurred_image = ski.filters.gaussian(gray_image, sigma=1)\n",
    "\n",
    "histogram, bin_edges = np.histogram(blurred_image, bins=256, range=(0, 1))\n",
    "# 0.2 is a good threshold for this image\n",
    "threshold = 0.2\n",
    "\n",
    "binary_mask = blurred_image < threshold\n",
    "labeled_image, count = ski.measure.label(\n",
    "    binary_mask, return_num=True)\n",
    "print(f'Number of colonies: {count}')\n",
    "\n",
    "colored_label_image = ski.color.label2rgb(labeled_image, bg_label=0)\n",
    "\n",
    "summary_image = ski.color.gray2rgb(gray_image)\n",
    "summary_image[binary_mask] = colored_label_image[binary_mask]\n",
    "\n",
    "fig, ax = plt.subplots()\n",
    "ax.imshow(summary_image, cmap='viridis')"
   ]
  },
  {
   "cell_type": "code",
   "execution_count": null,
   "metadata": {},
   "outputs": [],
   "source": [
    "def count_colonies(uri, sigma=1, threshold=0.2):\n",
    "    image = iio.imread(uri=uri)\n",
    "    gray_image = ski.color.rgb2gray(image)\n",
    "    blurred_image = ski.filters.gaussian(gray_image, sigma=sigma)\n",
    "    binary_mask = blurred_image < threshold\n",
    "    labeled_image, count = ski.measure.label(\n",
    "        binary_mask, return_num=True, connectivity=1)\n",
    "    \n",
    "    colored_label_image = ski.color.label2rgb(labeled_image, bg_label=0)\n",
    "    summary_image = ski.color.gray2rgb(gray_image)\n",
    "    summary_image[binary_mask] = colored_label_image[binary_mask]\n",
    "\n",
    "    fig, ax = plt.subplots()\n",
    "    ax.imshow(summary_image)\n",
    "    return count\n"
   ]
  },
  {
   "cell_type": "code",
   "execution_count": null,
   "metadata": {},
   "outputs": [],
   "source": [
    "import glob\n",
    "\n",
    "files = glob.glob('data/colonies-*.tif')\n",
    "for image in files:\n",
    "    count = count_colonies(uri=image)\n",
    "    print(f'{image}: {count} colonies')"
   ]
  },
  {
   "cell_type": "code",
   "execution_count": null,
   "metadata": {},
   "outputs": [],
   "source": [
    "def count_colonies(uri, sigma=1, minimum_area=100):\n",
    "    image = iio.imread(uri=uri)\n",
    "    \n",
    "    gray_image = ski.color.rgb2gray(image)\n",
    "    \n",
    "    blurred_image = ski.filters.gaussian(gray_image, sigma=sigma)\n",
    "    binary_mask = blurred_image < 0.9\n",
    "    threshold = ski.filters.threshold_otsu(blurred_image[binary_mask])\n",
    "    binary_mask = np.logical_and(binary_mask, blurred_image < threshold)\n",
    "    mask = ski.morphology.remove_small_objects(binary_mask, min_size=minimum_area)\n",
    "    labeled_image, count = ski.measure.label(\n",
    "        mask, return_num=True, connectivity=1)\n",
    "    \n",
    "    colored_label_image = ski.color.label2rgb(labeled_image, bg_label=0)\n",
    "    \n",
    "    summary_image = image.copy() \n",
    "    # colored_label_image는 float (0,1) 범위로 색상을 표시하고, \n",
    "    # image는 0-255 범위로 표시되어 있어서 255를 곱해준다.\n",
    "    summary_image[mask] = colored_label_image[mask] * 255\n",
    "\n",
    "    fig, ax = plt.subplots()\n",
    "    ax.imshow(summary_image)\n",
    "    return count"
   ]
  },
  {
   "cell_type": "code",
   "execution_count": null,
   "metadata": {},
   "outputs": [],
   "source": [
    "files = glob.glob('data/colonies-*.tif')\n",
    "for image in files:\n",
    "    count = count_colonies(uri=image, minimum_area=10)\n",
    "    print(f'{image}: {count} colonies')"
   ]
  }
 ],
 "metadata": {
  "kernelspec": {
   "display_name": "venv",
   "language": "python",
   "name": "python3"
  },
  "language_info": {
   "codemirror_mode": {
    "name": "ipython",
    "version": 3
   },
   "file_extension": ".py",
   "mimetype": "text/x-python",
   "name": "python",
   "nbconvert_exporter": "python",
   "pygments_lexer": "ipython3",
   "version": "3.12.1"
  }
 },
 "nbformat": 4,
 "nbformat_minor": 2
}
