{
 "cells": [
  {
   "cell_type": "markdown",
   "metadata": {},
   "source": [
    "# Creating Histograms"
   ]
  },
  {
   "cell_type": "code",
   "execution_count": null,
   "metadata": {},
   "outputs": [],
   "source": [
    "import imageio.v3 as iio\n",
    "import ipympl\n",
    "import matplotlib.pyplot as plt\n",
    "import numpy as np\n",
    "import skimage as ski\n",
    "\n",
    "%matplotlib widget"
   ]
  },
  {
   "cell_type": "code",
   "execution_count": null,
   "metadata": {},
   "outputs": [],
   "source": [
    "plant_seedling = iio.imread(uri=\"data/plant-seedling.jpg\", mode=\"L\")\n",
    "plant_seedling = ski.util.img_as_float(plant_seedling)\n",
    "\n",
    "fig, ax = plt.subplots()\n",
    "ax.imshow(plant_seedling, cmap=\"gray\")"
   ]
  },
  {
   "cell_type": "code",
   "execution_count": null,
   "metadata": {},
   "outputs": [],
   "source": [
    "histogram, bin_edges = np.histogram(plant_seedling, bins=256, range=(0, 1))\n",
    "fig, ax = plt.subplots()\n",
    "ax.set_title(\"Grayscale Histogram\")\n",
    "ax.set_xlabel(\"grayscale value\")\n",
    "ax.set_ylabel(\"pixels\")\n",
    "ax.set_xlim([0.0, 1.0])\n",
    "\n",
    "ax.plot(bin_edges[0:-1], histogram)"
   ]
  },
  {
   "cell_type": "code",
   "execution_count": null,
   "metadata": {},
   "outputs": [],
   "source": [
    "plant_seedling = iio.imread(uri=\"data/plant-seedling.jpg\", mode=\"L\")\n",
    "plant_seedling = ski.util.img_as_float(plant_seedling)\n",
    "\n",
    "fig, ax = plt.subplots()\n",
    "ax.imshow(plant_seedling, cmap=\"gray\")"
   ]
  },
  {
   "cell_type": "code",
   "execution_count": null,
   "metadata": {},
   "outputs": [],
   "source": [
    "import matplotlib.pyplot as plt\n",
    "mask = np.zeros(plant_seedling.shape, dtype=\"bool\")\n",
    "rr, cc = ski.draw.rectangle(start=(199, 410), end=(384, 485))\n",
    "mask[rr, cc] = True\n",
    "\n",
    "seedling = np.array(plant_seedling)\n",
    "\n",
    "# fig, ax = plt.subplots()\n",
    "# ax.imshow(seedling, cmap=\"gray\")\n",
    "histogram, bin_edges = np.histogram(seedling[mask], bins=256, range=(0.0, 1.0))\n",
    "\n",
    "fig,ax = plt.subplots()\n",
    "\n",
    "ax.set_title(\"Histogram\")\n",
    "ax.set_xlabel(\"grayscale value\")\n",
    "ax.set_ylabel(\"pixels\")\n",
    "ax.set_xlim([0., 1.])\n",
    "ax.plot(bin_edges[0:-1], histogram)\n"
   ]
  },
  {
   "cell_type": "markdown",
   "metadata": {},
   "source": [
    "## Colour Histograms"
   ]
  },
  {
   "cell_type": "code",
   "execution_count": null,
   "metadata": {},
   "outputs": [],
   "source": [
    "plant_seedling = iio.imread(uri=\"data/plant-seedling.jpg\")\n",
    "fig, ax = plt.subplots()\n",
    "ax.imshow(plant_seedling)"
   ]
  },
  {
   "cell_type": "code",
   "execution_count": null,
   "metadata": {},
   "outputs": [],
   "source": [
    "colors = (\"red\", \"green\", \"blue\")\n",
    "\n",
    "fig, ax = plt.subplots()\n",
    "ax.set_xlim([0, 256])\n",
    "for channel_id, color in enumerate(colors):\n",
    "    histogram, bin_edges = np.histogram(plant_seedling[:,:,channel_id], bins=256, range=(0,256))\n",
    "    ax.plot(bin_edges[1:], histogram, color=color)\n",
    "\n",
    "ax.set_title(\"Colour Histogram\")\n",
    "ax.set_xlabel(\"Color value\")\n",
    "ax.set_ylabel(\"Pixels\")"
   ]
  },
  {
   "cell_type": "code",
   "execution_count": null,
   "metadata": {},
   "outputs": [],
   "source": [
    "wellplate = iio.imread(uri=\"data/wellplate-02.tif\")\n",
    "fig, ax = plt.subplots()\n",
    "ax.imshow(wellplate)"
   ]
  },
  {
   "cell_type": "code",
   "execution_count": null,
   "metadata": {},
   "outputs": [],
   "source": [
    "(ry, cx) = (233, 1050)\n",
    "mask = np.zeros(shape=wellplate.shape[0:2], dtype=\"bool\")\n",
    "rr, cc = ski.draw.disk(center=(ry, cx), radius=49, shape=wellplate.shape[0:2])\n",
    "mask[rr, cc] = 1\n",
    "\n",
    "masked = np.array(wellplate)\n",
    "masked[~mask] = [0, 0, 0, 255]\n",
    "fig, ax = plt.subplots()\n",
    "ax.imshow(masked)"
   ]
  },
  {
   "cell_type": "code",
   "execution_count": null,
   "metadata": {},
   "outputs": [],
   "source": [
    "colors = (\"red\", \"green\", \"blue\")\n",
    "\n",
    "fig, ax = plt.subplots()\n",
    "ax.set_xlim([0,256])\n",
    "for (channel_id, color) in enumerate(colors):\n",
    "    histogram, bin_edges = np.histogram(\n",
    "        wellplate[:, :, channel_id][mask], bins=256, range=(0, 256)\n",
    "    )\n",
    "    ax.plot(bin_edges[1:], histogram, color=color)\n",
    "ax.set_xlabel(\"color value\")\n",
    "ax.set_ylabel(\"count\")"
   ]
  }
 ],
 "metadata": {
  "kernelspec": {
   "display_name": "venv",
   "language": "python",
   "name": "python3"
  },
  "language_info": {
   "codemirror_mode": {
    "name": "ipython",
    "version": 3
   },
   "file_extension": ".py",
   "mimetype": "text/x-python",
   "name": "python",
   "nbconvert_exporter": "python",
   "pygments_lexer": "ipython3",
   "version": "3.12.2"
  }
 },
 "nbformat": 4,
 "nbformat_minor": 2
}
