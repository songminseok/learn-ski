{
 "cells": [
  {
   "cell_type": "code",
   "execution_count": null,
   "metadata": {},
   "outputs": [],
   "source": [
    "import imageio.v3 as iio\n",
    "import ipympl\n",
    "import matplotlib.pyplot as plt\n",
    "import numpy as np\n",
    "import skimage as ski\n",
    "\n",
    "%matplotlib widget"
   ]
  },
  {
   "cell_type": "code",
   "execution_count": null,
   "metadata": {},
   "outputs": [],
   "source": [
    "maize_seedlings = iio.imread(uri=\"data/maize-seedlings.tif\")\n",
    "print(maize_seedlings.shape)\n",
    "fig, ax = plt.subplots()\n",
    "ax.imshow(maize_seedlings)"
   ]
  },
  {
   "cell_type": "code",
   "execution_count": null,
   "metadata": {},
   "outputs": [],
   "source": [
    "mask = np.ones(shape=maize_seedlings.shape[0:2], dtype=\"bool\")"
   ]
  },
  {
   "cell_type": "code",
   "execution_count": null,
   "metadata": {},
   "outputs": [],
   "source": [
    "rr, cc = ski.draw.rectangle(start=(357,44), end=(740,720))\n",
    "mask[rr,cc] = False\n",
    "\n",
    "fig, ax = plt.subplots()\n",
    "ax.imshow(mask, cmap='gray')"
   ]
  },
  {
   "cell_type": "code",
   "execution_count": null,
   "metadata": {},
   "outputs": [],
   "source": [
    "maize_seedlings[mask] = 0\n",
    "\n",
    "fig, ax = plt.subplots()\n",
    "ax.imshow(maize_seedlings)"
   ]
  },
  {
   "cell_type": "code",
   "execution_count": null,
   "metadata": {},
   "outputs": [],
   "source": [
    "wellplate = iio.imread(uri=\"data/wellplate-01.jpg\")\n",
    "fig, ax = plt.subplots()\n",
    "ax.imshow(wellplate)"
   ]
  },
  {
   "cell_type": "code",
   "execution_count": null,
   "metadata": {},
   "outputs": [],
   "source": [
    "mask = np.ones(shape=(wellplate.shape[0:2]), dtype=\"bool\")\n",
    "wellplate_masked = np.array(wellplate)\n",
    "\n",
    "with open(file=\"data/centers.txt\", mode=\"r\") as f:\n",
    "    for line in f:\n",
    "        coordinates = line.split()\n",
    "        cx = int(coordinates[0])\n",
    "        ry = int(coordinates[1])\n",
    "        rr, cc = ski.draw.disk(center=(ry, cx), radius=16, shape=wellplate.shape[0:2])\n",
    "        mask[rr, cc] = False\n",
    "\n",
    "wellplate_masked[mask] = 0\n",
    "\n",
    "fig, ax = plt.subplots()\n",
    "ax.imshow(wellplate_masked)"
   ]
  },
  {
   "cell_type": "code",
   "execution_count": null,
   "metadata": {},
   "outputs": [],
   "source": [
    "cxs = range(91, 672, 70)[0:8]\n",
    "rys = range(108, 1000, 72)[0: 12]\n",
    "\n",
    "mask2 = np.ones(shape=wellplate.shape[0:2], dtype=\"bool\")\n",
    "wellplate_masked_2 = np.array(wellplate)\n",
    "\n",
    "for ry in rys:\n",
    "    for cx in cxs:\n",
    "        rr, cc = ski.draw.disk(center=(ry, cx), radius=16, shape=wellplate.shape[0:2])\n",
    "        mask2[rr, cc] = False\n",
    "\n",
    "wellplate_masked_2[mask2] = 0\n",
    "fig, ax = plt.subplots()\n",
    "ax.imshow(wellplate_masked_2)"
   ]
  },
  {
   "cell_type": "markdown",
   "metadata": {},
   "source": []
  }
 ],
 "metadata": {
  "kernelspec": {
   "display_name": "venv",
   "language": "python",
   "name": "python3"
  },
  "language_info": {
   "codemirror_mode": {
    "name": "ipython",
    "version": 3
   },
   "file_extension": ".py",
   "mimetype": "text/x-python",
   "name": "python",
   "nbconvert_exporter": "python",
   "pygments_lexer": "ipython3",
   "version": "3.12.1"
  }
 },
 "nbformat": 4,
 "nbformat_minor": 2
}
