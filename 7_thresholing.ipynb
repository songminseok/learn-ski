{
 "cells": [
  {
   "cell_type": "code",
   "execution_count": null,
   "metadata": {},
   "outputs": [],
   "source": [
    "import glob\n",
    "import imageio.v3 as iio\n",
    "import ipympl\n",
    "import matplotlib.pyplot as plt\n",
    "import numpy as np\n",
    "import skimage as ski\n",
    "\n",
    "%matplotlib widget"
   ]
  },
  {
   "cell_type": "markdown",
   "metadata": {},
   "source": [
    "## Simple thresholding\n",
    "\n",
    "1. 이미지를 gray scale 로 읽는다.\n",
    "2. Blurring을 이용해서 노이즈를 제거한다. (de-noize)\n",
    "3. 노이즈가 제거된 이미지의 histogram을 분석한다.\n",
    "4. threshold 값을 찾고 이를 이용하여 필요없는 부분을 masking 처리한다.\n",
    "5. 4에서 생성된 mask를 이용해 원본 이미지에서 원하는 부분만 추출한다."
   ]
  },
  {
   "cell_type": "code",
   "execution_count": null,
   "metadata": {},
   "outputs": [],
   "source": [
    "shape01 = iio.imread(uri=\"data/shapes-01.jpg\")\n",
    "\n",
    "fig, ax = plt.subplots()\n",
    "ax.imshow(shape01)"
   ]
  },
  {
   "cell_type": "code",
   "execution_count": null,
   "metadata": {},
   "outputs": [],
   "source": [
    "gray_shapes = ski.color.rgb2gray(shape01)\n",
    "blurred_shapes = ski.filters.gaussian(gray_shapes, sigma=1)\n",
    "\n",
    "fig, ax = plt.subplots()\n",
    "ax.imshow(blurred_shapes, cmap='gray')"
   ]
  },
  {
   "cell_type": "code",
   "execution_count": null,
   "metadata": {},
   "outputs": [],
   "source": [
    "histogram, bin_edges = np.histogram(blurred_shapes, bins=256, range=(0.0,1.0))\n",
    "\n",
    "fig, ax = plt.subplots()\n",
    "ax.plot(bin_edges[0:-1], histogram)"
   ]
  },
  {
   "cell_type": "code",
   "execution_count": null,
   "metadata": {},
   "outputs": [],
   "source": [
    "t = 0.8\n",
    "binary_mask = blurred_shapes < t\n",
    "\n",
    "fig, ax = plt.subplots()\n",
    "ax.imshow(binary_mask, cmap=\"gray\")"
   ]
  },
  {
   "cell_type": "code",
   "execution_count": null,
   "metadata": {},
   "outputs": [],
   "source": [
    "selection = shape01.copy()\n",
    "selection[~binary_mask] = 0\n",
    "\n",
    "fig, ax = plt.subplots()\n",
    "ax.imshow(selection)"
   ]
  },
  {
   "cell_type": "markdown",
   "metadata": {},
   "source": [
    "## Practice"
   ]
  },
  {
   "cell_type": "code",
   "execution_count": null,
   "metadata": {},
   "outputs": [],
   "source": [
    "# 0. 이미지 읽기\n",
    "import numpy as np\n",
    "shapes02 = iio.imread(uri=\"data/shapes-02.jpg\")\n",
    "# 1. Gray 이미지로 변경\n",
    "gray_shapes02= ski.color.rgb2gray(shapes02)\n",
    "# 2. Histogram 계산\n",
    "histogram, bin_edges = np.histogram(gray_shapes02, bins=256, range=(0., 1.))\n",
    "fig, ax = plt.subplots()\n",
    "ax.plot(bin_edges[0:-1], histogram)"
   ]
  },
  {
   "cell_type": "code",
   "execution_count": null,
   "metadata": {},
   "outputs": [],
   "source": [
    "# 3. 임계값 설정\n",
    "t2 = 0.6\n",
    "binary_mask2 = gray_shapes02 > t2\n",
    "# 4. 이미지 출력\n",
    "fig, ax = plt.subplots()\n",
    "ax.imshow(binary_mask2, cmap='gray')"
   ]
  },
  {
   "cell_type": "code",
   "execution_count": null,
   "metadata": {},
   "outputs": [],
   "source": [
    "selection2 = shapes02.copy()\n",
    "selection2[~binary_mask2] = 0\n",
    "\n",
    "fig, ax = plt.subplots()\n",
    "ax.imshow(selection2)"
   ]
  },
  {
   "cell_type": "markdown",
   "metadata": {},
   "source": [
    "## Automatic thresholding\n",
    "\n",
    "매번 수동으로 임계값을 구하는 것은 실용적이지 못하다. 이를 위해 알고리즘들이 개발되었으며, 이 장에서는 간단하 otsu's method를 살펴본다."
   ]
  },
  {
   "cell_type": "code",
   "execution_count": null,
   "metadata": {},
   "outputs": [],
   "source": [
    "maize_roots = iio.imread(uri=\"data/maize-root-cluster.jpg\")\n",
    "\n",
    "fig, ax = plt.subplots()\n",
    "ax.imshow(maize_roots)"
   ]
  },
  {
   "cell_type": "code",
   "execution_count": null,
   "metadata": {},
   "outputs": [],
   "source": [
    "gray_maize_roots = ski.color.rgb2gray(maize_roots)\n",
    "blurred_maize_roots = ski.filters.gaussian(gray_maize_roots, sigma=1)\n",
    "histogram, bin_edges = np.histogram(blurred_maize_roots, bins=256, range=(0.0, 1.0))\n",
    "\n",
    "fig, ax = plt.subplots()\n",
    "ax.plot(bin_edges[0:-1], histogram)"
   ]
  },
  {
   "cell_type": "code",
   "execution_count": null,
   "metadata": {},
   "outputs": [],
   "source": [
    "t = ski.filters.threshold_otsu(blurred_maize_roots)\n",
    "binary_mask3 = blurred_maize_roots > t\n",
    "print(t)\n",
    "fig, ax = plt.subplots()\n",
    "ax.imshow(binary_mask3, cmap='gray')"
   ]
  },
  {
   "cell_type": "code",
   "execution_count": null,
   "metadata": {},
   "outputs": [],
   "source": [
    "import matplotlib.pyplot as plt\n",
    "selection3 = maize_roots.copy()\n",
    "selection3[~binary_mask3] = 0\n",
    "\n",
    "fig, ax = plt.subplots()\n",
    "ax.imshow(selection3)"
   ]
  },
  {
   "cell_type": "code",
   "execution_count": null,
   "metadata": {},
   "outputs": [],
   "source": [
    "# measure root mass\n",
    "def measure_root_mass(filename, sigma=1.0):\n",
    "    image = iio.imread(filename, mode=\"L\")\n",
    "    blurred_image = ski.filters.gaussian(image, sigma=sigma)\n",
    "    t = ski.filters.threshold_otsu(blurred_image)\n",
    "    binary_mask = blurred_image > t\n",
    "    h = image.shape[0]\n",
    "    w = image.shape[1]\n",
    "    r = np.count_nonzero(binary_mask)\n",
    "    return r / (h * w)"
   ]
  },
  {
   "cell_type": "code",
   "execution_count": null,
   "metadata": {},
   "outputs": [],
   "source": [
    "all_files = glob.glob(\"data/trial-*.jpg\")\n",
    "for filename in all_files:\n",
    "    density = measure_root_mass(filename=filename, sigma=1.5)\n",
    "    print(filename, density, sep=\",\")"
   ]
  },
  {
   "cell_type": "code",
   "execution_count": null,
   "metadata": {},
   "outputs": [],
   "source": [
    "## enhance root mass\n",
    "\n",
    "import glob\n",
    "def enhanced_root_mass(filename, sigma=1.0):\n",
    "    image = iio.imread(uri=filename, mode=\"L\")\n",
    "    blurred_image = ski.filters.gaussian(image, sigma=sigma)\n",
    "    binary_mask = blurred_image < 0.95\n",
    "    t = ski.filters.threshold_otsu(blurred_image[binary_mask])\n",
    "    binary_mask = (blurred_image < 0.95) & (blurred_image > t)\n",
    "    pixels = np.count_nonzero(binary_mask)\n",
    "    w = image.shape[1]\n",
    "    h = image.shape[0]\n",
    "    return pixels / (w * h)\n",
    "\n",
    "all_files = glob.glob(\"data/trial-*.jpg\")\n",
    "for f in all_files:\n",
    "    density = enhanced_root_mass(filename=f, sigma=1.0)\n",
    "    print(f, density, sep=\",\")"
   ]
  },
  {
   "cell_type": "markdown",
   "metadata": {},
   "source": [
    "## Practice 2. Thresholding a bacteria colony image"
   ]
  },
  {
   "cell_type": "code",
   "execution_count": null,
   "metadata": {},
   "outputs": [],
   "source": [
    "petri_dish = iio.imread(uri=\"data/colonies-01.tif\")\n",
    "gray_dish = ski.color.rgb2gray(petri_dish)\n",
    "blurred_dish = ski.filters.gaussian(gray_dish, sigma=1)\n",
    "histogram, bin_edges = np.histogram(blurred_dish, bins=256, range=(0., 1.))\n",
    "\n",
    "fig, ax = plt.subplots()\n",
    "ax.plot(bin_edges[0:-1], histogram)"
   ]
  },
  {
   "cell_type": "code",
   "execution_count": null,
   "metadata": {},
   "outputs": [],
   "source": [
    "import matplotlib.pyplot as plt\n",
    "binary_mask = blurred_dish < 0.3\n",
    "fig, ax = plt.subplots()\n",
    "ax.imshow(binary_mask, cmap='gray')"
   ]
  }
 ],
 "metadata": {
  "kernelspec": {
   "display_name": "venv",
   "language": "python",
   "name": "python3"
  },
  "language_info": {
   "codemirror_mode": {
    "name": "ipython",
    "version": 3
   },
   "file_extension": ".py",
   "mimetype": "text/x-python",
   "name": "python",
   "nbconvert_exporter": "python",
   "pygments_lexer": "ipython3",
   "version": "3.12.1"
  }
 },
 "nbformat": 4,
 "nbformat_minor": 2
}
